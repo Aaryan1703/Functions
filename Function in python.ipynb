{
 "cells": [
  {
   "cell_type": "code",
   "execution_count": 1,
   "id": "7cafddaa",
   "metadata": {},
   "outputs": [],
   "source": [
    "# create a function using def function\n",
    "#add()\n",
    "#cube()\n",
    "#Create a function in python to output cube of given numbers from a list\n",
    "#create th function name calculator which +,-,*,/ with 2 numbers\n",
    "#sum of all element inside the list\n",
    "\n",
    "#calculate product for inside the list\n",
    "#calculate hypotenius of triangle\n",
    "#crate a function to check it is triangle or not\n",
    "#calculate the area of triangle : herons formula\n",
    "#calculate the total no of words in sentence "
   ]
  },
  {
   "cell_type": "code",
   "execution_count": 2,
   "id": "5deb8ee3",
   "metadata": {},
   "outputs": [],
   "source": [
    "def add(x,y):\n",
    "    c=x+y\n",
    "    return c"
   ]
  },
  {
   "cell_type": "code",
   "execution_count": 3,
   "id": "0878753e",
   "metadata": {},
   "outputs": [
    {
     "data": {
      "text/plain": [
       "14"
      ]
     },
     "execution_count": 3,
     "metadata": {},
     "output_type": "execute_result"
    }
   ],
   "source": [
    "add(5,9)"
   ]
  },
  {
   "cell_type": "code",
   "execution_count": 35,
   "id": "f588654f",
   "metadata": {},
   "outputs": [],
   "source": [
    "def calculator(o,a,b):\n",
    "    \"\"\"\n",
    "    this is calculator \n",
    "    \"\"\"\n",
    "    if(o==\"add\"):\n",
    "        c=a+b\n",
    "        return c\n",
    "    elif(o==\"sub\"):\n",
    "        c=a-b\n",
    "        return c\n",
    "    elif(o==\"mul\"):\n",
    "        c=a*b\n",
    "        return c\n",
    "    elif(o==\"div\"):\n",
    "        c=a/b\n",
    "        return c\n",
    "    else :\n",
    "        pass  "
   ]
  },
  {
   "cell_type": "code",
   "execution_count": 36,
   "id": "bbacd0b4",
   "metadata": {},
   "outputs": [
    {
     "data": {
      "text/plain": [
       "20"
      ]
     },
     "execution_count": 36,
     "metadata": {},
     "output_type": "execute_result"
    }
   ],
   "source": [
    "calculator(\"mul\",4,5)"
   ]
  },
  {
   "cell_type": "code",
   "execution_count": 37,
   "id": "3bf8f13c",
   "metadata": {},
   "outputs": [
    {
     "name": "stdout",
     "output_type": "stream",
     "text": [
      "Help on function calculator in module __main__:\n",
      "\n",
      "calculator(o, a, b)\n",
      "    this is calculator\n",
      "\n"
     ]
    }
   ],
   "source": [
    "help(calculator)"
   ]
  },
  {
   "cell_type": "code",
   "execution_count": 38,
   "id": "d8e6b188",
   "metadata": {},
   "outputs": [
    {
     "data": {
      "text/plain": [
       "9"
      ]
     },
     "execution_count": 38,
     "metadata": {},
     "output_type": "execute_result"
    }
   ],
   "source": [
    "calculator(\"add\",4,5)"
   ]
  },
  {
   "cell_type": "code",
   "execution_count": 39,
   "id": "325b327e",
   "metadata": {},
   "outputs": [],
   "source": [
    "def cube(n):\n",
    "    c=n**3\n",
    "    return c\n"
   ]
  },
  {
   "cell_type": "code",
   "execution_count": 40,
   "id": "9a863a13",
   "metadata": {},
   "outputs": [
    {
     "data": {
      "text/plain": [
       "125"
      ]
     },
     "execution_count": 40,
     "metadata": {},
     "output_type": "execute_result"
    }
   ],
   "source": [
    "cube(5)"
   ]
  },
  {
   "cell_type": "code",
   "execution_count": 41,
   "id": "564d39ef",
   "metadata": {},
   "outputs": [],
   "source": [
    "def cube_list(a):\n",
    "    c_list=[]\n",
    "    for i in a:\n",
    "        c_list.append(i*i*i)\n",
    "    return c_list    "
   ]
  },
  {
   "cell_type": "code",
   "execution_count": 42,
   "id": "90d6419f",
   "metadata": {},
   "outputs": [
    {
     "data": {
      "text/plain": [
       "[1, 8, 27, 64]"
      ]
     },
     "execution_count": 42,
     "metadata": {},
     "output_type": "execute_result"
    }
   ],
   "source": [
    "a=[1,2,3,4]\n",
    "cube_list(a)"
   ]
  },
  {
   "cell_type": "code",
   "execution_count": 45,
   "id": "c5b50f11",
   "metadata": {},
   "outputs": [],
   "source": [
    "def sum_list(a):\n",
    "    s=0\n",
    "    for i in a:\n",
    "        s=s+i\n",
    "    return s    "
   ]
  },
  {
   "cell_type": "code",
   "execution_count": 46,
   "id": "5c8426c3",
   "metadata": {},
   "outputs": [
    {
     "data": {
      "text/plain": [
       "6"
      ]
     },
     "execution_count": 46,
     "metadata": {},
     "output_type": "execute_result"
    }
   ],
   "source": [
    "a=[1,2,3]\n",
    "sum_list(a)"
   ]
  },
  {
   "cell_type": "code",
   "execution_count": 47,
   "id": "103ce5dc",
   "metadata": {},
   "outputs": [],
   "source": [
    "def product_list(lst):\n",
    "    \"\"\"this function calculate the product of list elemnt\"\"\"\n",
    "    p=1\n",
    "    for i in lst:\n",
    "        p=p*i\n",
    "        print(f\"product of list element is {p}\")\n",
    "    return p    "
   ]
  },
  {
   "cell_type": "code",
   "execution_count": 48,
   "id": "9699b804",
   "metadata": {},
   "outputs": [],
   "source": [
    "l=[1,2,3,4]"
   ]
  },
  {
   "cell_type": "code",
   "execution_count": 49,
   "id": "7126d287",
   "metadata": {},
   "outputs": [
    {
     "name": "stdout",
     "output_type": "stream",
     "text": [
      "product of list element is 1\n",
      "product of list element is 2\n",
      "product of list element is 6\n",
      "product of list element is 24\n"
     ]
    },
    {
     "data": {
      "text/plain": [
       "24"
      ]
     },
     "execution_count": 49,
     "metadata": {},
     "output_type": "execute_result"
    }
   ],
   "source": [
    "product_list(l)"
   ]
  },
  {
   "cell_type": "markdown",
   "id": "ce634b0a",
   "metadata": {},
   "source": [
    "~~~\n",
    "hyp**2 = a**2 + b**2\n",
    "hyp = sqrt(a**2 + b**2)\n",
    "~~~"
   ]
  },
  {
   "cell_type": "code",
   "execution_count": 53,
   "id": "99d614ee",
   "metadata": {},
   "outputs": [],
   "source": [
    "from math import sqrt\n",
    "def hypo(side1,side2):\n",
    "    \"\"\"this function calculate the hypothesis of triangle\"\"\"\n",
    "    hyp=sqrt(side1**2+side2**2)\n",
    "    return hyp"
   ]
  },
  {
   "cell_type": "code",
   "execution_count": 54,
   "id": "da55cd8d",
   "metadata": {},
   "outputs": [
    {
     "data": {
      "text/plain": [
       "46.57252408878007"
      ]
     },
     "execution_count": 54,
     "metadata": {},
     "output_type": "execute_result"
    }
   ],
   "source": [
    "hypo(45,12)"
   ]
  },
  {
   "cell_type": "code",
   "execution_count": 73,
   "id": "b243b1e3",
   "metadata": {},
   "outputs": [],
   "source": [
    "def is_triangle(a,b,c):\n",
    "    \"\"\"it's check it is triangle or not\"\"\"\n",
    "    if(a+b)>c and (b+c)>a and (a+c)>b:\n",
    "        print(f\"for given side {a},{b} and {c} its form a triangle\")\n",
    "        t=True\n",
    "    else:\n",
    "        print(f\"for given side {a},{b} and {c} its Not form a triangle\")\n",
    "        t=False\n",
    "    return t    "
   ]
  },
  {
   "cell_type": "code",
   "execution_count": 74,
   "id": "1115ba46",
   "metadata": {},
   "outputs": [
    {
     "name": "stdout",
     "output_type": "stream",
     "text": [
      "for given side 1,2 and 3 its Not form a triangle\n"
     ]
    },
    {
     "data": {
      "text/plain": [
       "False"
      ]
     },
     "execution_count": 74,
     "metadata": {},
     "output_type": "execute_result"
    }
   ],
   "source": [
    "is_triangle(1,2,3)"
   ]
  },
  {
   "cell_type": "code",
   "execution_count": 75,
   "id": "2130e649",
   "metadata": {},
   "outputs": [
    {
     "name": "stdout",
     "output_type": "stream",
     "text": [
      "for given side 5,7 and 6 its form a triangle\n"
     ]
    },
    {
     "data": {
      "text/plain": [
       "True"
      ]
     },
     "execution_count": 75,
     "metadata": {},
     "output_type": "execute_result"
    }
   ],
   "source": [
    "is_triangle(5,7,6)"
   ]
  },
  {
   "cell_type": "code",
   "execution_count": 76,
   "id": "ba072834",
   "metadata": {},
   "outputs": [],
   "source": [
    "from math import sqrt\n",
    "def area_of_triangle(a,b,c):\n",
    "    \n",
    "    \"\"\"help to find area of triangle\"\"\"\n",
    "    \n",
    "    if is_triangle(a,b,c)==True:\n",
    "        s=(a+b+c)/2\n",
    "        area=sqrt(s*(s-a)*(s-b)*(s-c))\n",
    "    else:\n",
    "        print(f\"this is not form a triangle\")\n",
    "        area=None\n",
    "    return area    "
   ]
  },
  {
   "cell_type": "code",
   "execution_count": 77,
   "id": "43820bfc",
   "metadata": {},
   "outputs": [
    {
     "name": "stdout",
     "output_type": "stream",
     "text": [
      "for given side 45,85 and 86 its form a triangle\n"
     ]
    },
    {
     "data": {
      "text/plain": [
       "1855.4848422986377"
      ]
     },
     "execution_count": 77,
     "metadata": {},
     "output_type": "execute_result"
    }
   ],
   "source": [
    "area_of_triangle(45,85,86)"
   ]
  },
  {
   "cell_type": "code",
   "execution_count": 78,
   "id": "10eb55cb",
   "metadata": {},
   "outputs": [],
   "source": [
    "sentence=\"python is easy language\""
   ]
  },
  {
   "cell_type": "code",
   "execution_count": 79,
   "id": "1a9e0dc0",
   "metadata": {},
   "outputs": [],
   "source": [
    "def word_count(a):\n",
    "    lst=a.split(\" \")\n",
    "    c=len(lst)\n",
    "    return c"
   ]
  },
  {
   "cell_type": "code",
   "execution_count": 80,
   "id": "124529b2",
   "metadata": {},
   "outputs": [
    {
     "data": {
      "text/plain": [
       "4"
      ]
     },
     "execution_count": 80,
     "metadata": {},
     "output_type": "execute_result"
    }
   ],
   "source": [
    "word_count(sentence)"
   ]
  },
  {
   "cell_type": "code",
   "execution_count": 81,
   "id": "ac9e4db4",
   "metadata": {},
   "outputs": [
    {
     "name": "stdout",
     "output_type": "stream",
     "text": [
      "for given side 12,13 and 14 its form a triangle\n"
     ]
    },
    {
     "data": {
      "text/plain": [
       "72.30793524918272"
      ]
     },
     "execution_count": 81,
     "metadata": {},
     "output_type": "execute_result"
    }
   ],
   "source": [
    "area_of_triangle(12,13,14)"
   ]
  },
  {
   "cell_type": "code",
   "execution_count": null,
   "id": "aec89c4d",
   "metadata": {},
   "outputs": [],
   "source": []
  }
 ],
 "metadata": {
  "kernelspec": {
   "display_name": "Python 3 (ipykernel)",
   "language": "python",
   "name": "python3"
  },
  "language_info": {
   "codemirror_mode": {
    "name": "ipython",
    "version": 3
   },
   "file_extension": ".py",
   "mimetype": "text/x-python",
   "name": "python",
   "nbconvert_exporter": "python",
   "pygments_lexer": "ipython3",
   "version": "3.11.1"
  }
 },
 "nbformat": 4,
 "nbformat_minor": 5
}
